{
 "cells": [
  {
   "cell_type": "code",
   "execution_count": 51,
   "metadata": {},
   "outputs": [],
   "source": [
    "import requests\n",
    "import lxml\n",
    "from bs4 import BeautifulSoup\n",
    "import pandas as pd\n",
    "import plotly.express as px"
   ]
  },
  {
   "cell_type": "code",
   "execution_count": 52,
   "metadata": {},
   "outputs": [],
   "source": [
    "# user agent through which requests are sent\n",
    "header = {\n",
    "    'User-agent': 'Mozilla/5.0 (Linux; Android 11; SAMSUNG SM-G973U) AppleWebKit/537.36 (KHTML, like Gecko) SamsungBrowser/14.2 Chrome/87.0.4280.141 Mobile Safari/537.36'\n",
    "}"
   ]
  },
  {
   "cell_type": "code",
   "execution_count": 53,
   "metadata": {},
   "outputs": [],
   "source": [
    "page_no = []   # object to store URL criteria\n",
    "\n",
    "n = 50   # insert number of pages\n",
    "\n",
    "for x in range(0,n):  # page numbers 37\n",
    "    categories = x   # multiply by number of items on page\n",
    "    page_no.append(categories)"
   ]
  },
  {
   "cell_type": "code",
   "execution_count": 54,
   "metadata": {},
   "outputs": [],
   "source": [
    "handm_dresses = []\n",
    "\n",
    "for x in page_no:\n",
    "    r = requests.get(f'https://www2.hm.com/en_gb/ladies/shop-by-product/dresses.html?page={x}', headers=header)  # loop through pages\n",
    "    soup = BeautifulSoup(r.content, 'lxml')\n",
    "    \n",
    "    products = soup.find_all('article', class_='db650c')  # Select the main product divs\n",
    "\n",
    "    for product in products:\n",
    "        # Check for the name element\n",
    "        name_element = product.find('h2', class_='fa226d ca21a4 f25ed4 b5233a')\n",
    "        name = name_element.text.strip() if name_element else 'Name Not Available'\n",
    "        \n",
    "        # Check for the price element\n",
    "        price_element = product.find('span', class_='aeecde ac3d9e')\n",
    "        price = price_element.text.strip() if price_element else 'Price Not Available'\n",
    "    \n",
    "        # Collect product details\n",
    "        product_details = {\n",
    "            'name': name,\n",
    "            'price': price\n",
    "        }\n",
    "    \n",
    "        handm_dresses.append(product_details)"
   ]
  },
  {
   "cell_type": "code",
   "execution_count": 55,
   "metadata": {},
   "outputs": [
    {
     "name": "stdout",
     "output_type": "stream",
     "text": [
      "                                 name   price\n",
      "0                      Rib-knit dress  £34.99\n",
      "1            Bow-detail strappy dress  £34.99\n",
      "2                 Sequined mini dress  £24.99\n",
      "3                     Boat-neck dress  £15.99\n",
      "4              Embellished mini dress  £39.99\n",
      "5                 Tuxedo blazer dress  £64.99\n",
      "6   Rhinestone-embellished mini dress  £69.99\n",
      "7          Bow-front satin mini dress  £69.99\n",
      "8           Tulle-skirt bandeau dress  £84.99\n",
      "9                  Sequined net dress  £44.99\n",
      "10                      Fringed dress  £44.99\n",
      "11            Sleeveless blazer dress  £74.99\n",
      "12          Ruffle-sleeve satin dress  £64.99\n",
      "13                Satin bandeau dress  £64.99\n",
      "14                   Bubble-hem dress  £49.99\n"
     ]
    }
   ],
   "source": [
    "# write to dataframe\n",
    "df = pd.DataFrame(handm_dresses)\n",
    "print(df.head(15))  # print top 15"
   ]
  },
  {
   "cell_type": "code",
   "execution_count": 56,
   "metadata": {},
   "outputs": [],
   "source": [
    "df['price'] = df['price'].replace('£','',regex=True)\n",
    "df['price'] = df['price'].replace('From','',regex=True)\n",
    "df['price'] = df['price'].replace(',','',regex=True)\n",
    "df['price'] = pd.to_numeric(df['price'])\n",
    "\n",
    "# Remove duplicate rows\n",
    "df = df.drop_duplicates()\n",
    "\n",
    "# Optionally, reset the index after removing duplicates\n",
    "df = df.reset_index(drop=True)"
   ]
  },
  {
   "cell_type": "code",
   "execution_count": 57,
   "metadata": {},
   "outputs": [
    {
     "name": "stdout",
     "output_type": "stream",
     "text": [
      "                          name   price\n",
      "0               Rib-knit dress   34.99\n",
      "1     Bow-detail strappy dress   34.99\n",
      "2          Sequined mini dress   24.99\n",
      "3              Boat-neck dress   15.99\n",
      "4       Embellished mini dress   39.99\n",
      "...                        ...     ...\n",
      "1045   Appliquéd bandeau dress   44.99\n",
      "1046           Lace maxi dress  189.99\n",
      "1047   Long denim corset dress  279.99\n",
      "1048        Tulle evening gown  249.99\n",
      "1049            Crinkled dress   18.99\n",
      "\n",
      "[1050 rows x 2 columns]\n"
     ]
    }
   ],
   "source": [
    "print(df)"
   ]
  },
  {
   "cell_type": "code",
   "execution_count": 58,
   "metadata": {},
   "outputs": [],
   "source": [
    "df.to_excel('handm_dresses.xlsx', index=False) "
   ]
  }
 ],
 "metadata": {
  "kernelspec": {
   "display_name": "base",
   "language": "python",
   "name": "python3"
  },
  "language_info": {
   "codemirror_mode": {
    "name": "ipython",
    "version": 3
   },
   "file_extension": ".py",
   "mimetype": "text/x-python",
   "name": "python",
   "nbconvert_exporter": "python",
   "pygments_lexer": "ipython3",
   "version": "3.9.12"
  }
 },
 "nbformat": 4,
 "nbformat_minor": 2
}
