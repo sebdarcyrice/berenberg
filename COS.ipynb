{
 "cells": [
  {
   "cell_type": "code",
   "execution_count": 40,
   "metadata": {},
   "outputs": [],
   "source": [
    "import requests\n",
    "import lxml\n",
    "from bs4 import BeautifulSoup\n",
    "import pandas as pd\n",
    "import plotly.express as px\n",
    "import numpy as np"
   ]
  },
  {
   "cell_type": "code",
   "execution_count": 41,
   "metadata": {},
   "outputs": [],
   "source": [
    "# user agent through which requests are sent\n",
    "header = {\n",
    "    'User-agent': 'Mozilla/5.0 (Linux; Android 11; SAMSUNG SM-G973U) AppleWebKit/537.36 (KHTML, like Gecko) SamsungBrowser/14.2 Chrome/87.0.4280.141 Mobile Safari/537.36'\n",
    "}"
   ]
  },
  {
   "cell_type": "code",
   "execution_count": 42,
   "metadata": {},
   "outputs": [],
   "source": [
    "page_no = []   # object to store URL criteria\n",
    "\n",
    "n = 9   # insert number of pages\n",
    "\n",
    "for x in range(1,n):  # page numbers 37\n",
    "    categories = x   # multiply by number of items on page\n",
    "    page_no.append(categories)"
   ]
  },
  {
   "cell_type": "code",
   "execution_count": 43,
   "metadata": {},
   "outputs": [],
   "source": [
    "cos_dresses = []\n",
    "\n",
    "for x in page_no:\n",
    "    r = requests.get(f'https://www.cos.com/en_gbp/women/dresses.html?page={x}', headers=header)  # loop through pages\n",
    "    soup = BeautifulSoup(r.content, 'lxml')\n",
    "    \n",
    "    products = soup.find_all('div', class_='column')  # Select the main product divs\n",
    "\n",
    "    for product in products:\n",
    "        # Check for the name element\n",
    "        name_element = product.find('h2', class_='a-heading-2 product-title')\n",
    "        name = name_element.text.strip() if name_element else 'Name Not Available'\n",
    "        \n",
    "        # Check for the price element\n",
    "        price_element = product.find('div', class_='m-product-price')\n",
    "        price = price_element.text.strip() if price_element else 'Price Not Available'\n",
    "    \n",
    "        # Collect product details\n",
    "        product_details = {\n",
    "            'name': name,\n",
    "            'price': price\n",
    "        }\n",
    "    \n",
    "        cos_dresses.append(product_details)\n"
   ]
  },
  {
   "cell_type": "code",
   "execution_count": 44,
   "metadata": {},
   "outputs": [
    {
     "name": "stdout",
     "output_type": "stream",
     "text": [
      "                                     name                price\n",
      "0        GEOMETRIC-PRINT MAXI SHIRT DRESS                 £115\n",
      "1   GATHERED SILK-BLEND VELVET MIDI DRESS                 £135\n",
      "2            HERRINGBONE MAXI SHIRT DRESS                 £135\n",
      "3             BRUSHED-CASHMERE MAXI DRESS                 £300\n",
      "4                RUFFLED SWING MINI DRESS                  £85\n",
      "5                  MERINO WOOL MIDI DRESS                  £95\n",
      "6                        WOOL SHIRT DRESS                 £125\n",
      "7                      Name Not Available  Price Not Available\n",
      "8         SCARF-DETAIL PRINTED MIDI DRESS                 £115\n",
      "9           BIB-FRONT CORDUROY MINI DRESS                  £85\n",
      "10               CORSET-DETAIL MAXI DRESS                  £95\n",
      "11           ASYMMETRIC MERINO WOOL DRESS                 £115\n",
      "12            SATIN RACER-NECK MINI DRESS                 £110\n",
      "13           MERINO WOOL TURTLENECK DRESS                  £95\n",
      "14              DRAPED BALLOON MIDI DRESS                 £180\n"
     ]
    }
   ],
   "source": [
    "# write to dataframe\n",
    "df = pd.DataFrame(cos_dresses)\n",
    "print(df.head(15))  # print top 15"
   ]
  },
  {
   "cell_type": "code",
   "execution_count": 47,
   "metadata": {},
   "outputs": [],
   "source": [
    "# Filter out rows where the price is 'Price Not Available'\n",
    "df = df[df['price'] != 'Price Not Available']\n",
    "\n",
    "df['price'] = df['price'].replace('£','',regex=True)\n",
    "df['price'] = df['price'].replace('From','',regex=True)\n",
    "df['price'] = df['price'].replace(',','',regex=True)\n",
    "df['price'] = pd.to_numeric(df['price'])\n",
    "# Optionally, reset the index after removing other rows\n",
    "df = df.reset_index(drop=True)"
   ]
  },
  {
   "cell_type": "code",
   "execution_count": 48,
   "metadata": {},
   "outputs": [
    {
     "data": {
      "text/html": [
       "<div>\n",
       "<style scoped>\n",
       "    .dataframe tbody tr th:only-of-type {\n",
       "        vertical-align: middle;\n",
       "    }\n",
       "\n",
       "    .dataframe tbody tr th {\n",
       "        vertical-align: top;\n",
       "    }\n",
       "\n",
       "    .dataframe thead th {\n",
       "        text-align: right;\n",
       "    }\n",
       "</style>\n",
       "<table border=\"1\" class=\"dataframe\">\n",
       "  <thead>\n",
       "    <tr style=\"text-align: right;\">\n",
       "      <th></th>\n",
       "      <th>name</th>\n",
       "      <th>price</th>\n",
       "    </tr>\n",
       "  </thead>\n",
       "  <tbody>\n",
       "    <tr>\n",
       "      <th>0</th>\n",
       "      <td>GEOMETRIC-PRINT MAXI SHIRT DRESS</td>\n",
       "      <td>115</td>\n",
       "    </tr>\n",
       "    <tr>\n",
       "      <th>1</th>\n",
       "      <td>GATHERED SILK-BLEND VELVET MIDI DRESS</td>\n",
       "      <td>135</td>\n",
       "    </tr>\n",
       "    <tr>\n",
       "      <th>2</th>\n",
       "      <td>HERRINGBONE MAXI SHIRT DRESS</td>\n",
       "      <td>135</td>\n",
       "    </tr>\n",
       "    <tr>\n",
       "      <th>3</th>\n",
       "      <td>BRUSHED-CASHMERE MAXI DRESS</td>\n",
       "      <td>300</td>\n",
       "    </tr>\n",
       "    <tr>\n",
       "      <th>4</th>\n",
       "      <td>RUFFLED SWING MINI DRESS</td>\n",
       "      <td>85</td>\n",
       "    </tr>\n",
       "    <tr>\n",
       "      <th>...</th>\n",
       "      <td>...</td>\n",
       "      <td>...</td>\n",
       "    </tr>\n",
       "    <tr>\n",
       "      <th>518</th>\n",
       "      <td>DEEP V-NECK DRESS</td>\n",
       "      <td>95</td>\n",
       "    </tr>\n",
       "    <tr>\n",
       "      <th>519</th>\n",
       "      <td>TIERED DRESS</td>\n",
       "      <td>69</td>\n",
       "    </tr>\n",
       "    <tr>\n",
       "      <th>520</th>\n",
       "      <td>STRIPED WRAP DRESS</td>\n",
       "      <td>79</td>\n",
       "    </tr>\n",
       "    <tr>\n",
       "      <th>521</th>\n",
       "      <td>OVERSIZED T-SHIRT DRESS</td>\n",
       "      <td>65</td>\n",
       "    </tr>\n",
       "    <tr>\n",
       "      <th>522</th>\n",
       "      <td>CUT-OUT SHOULDER DRESS</td>\n",
       "      <td>69</td>\n",
       "    </tr>\n",
       "  </tbody>\n",
       "</table>\n",
       "<p>523 rows × 2 columns</p>\n",
       "</div>"
      ],
      "text/plain": [
       "                                      name  price\n",
       "0         GEOMETRIC-PRINT MAXI SHIRT DRESS    115\n",
       "1    GATHERED SILK-BLEND VELVET MIDI DRESS    135\n",
       "2             HERRINGBONE MAXI SHIRT DRESS    135\n",
       "3              BRUSHED-CASHMERE MAXI DRESS    300\n",
       "4                 RUFFLED SWING MINI DRESS     85\n",
       "..                                     ...    ...\n",
       "518                      DEEP V-NECK DRESS     95\n",
       "519                           TIERED DRESS     69\n",
       "520                     STRIPED WRAP DRESS     79\n",
       "521                OVERSIZED T-SHIRT DRESS     65\n",
       "522                 CUT-OUT SHOULDER DRESS     69\n",
       "\n",
       "[523 rows x 2 columns]"
      ]
     },
     "execution_count": 48,
     "metadata": {},
     "output_type": "execute_result"
    }
   ],
   "source": [
    "df"
   ]
  },
  {
   "cell_type": "code",
   "execution_count": 49,
   "metadata": {},
   "outputs": [],
   "source": [
    "df.to_excel('cos_dresses.xlsx', index=False) "
   ]
  },
  {
   "cell_type": "code",
   "execution_count": 53,
   "metadata": {},
   "outputs": [
    {
     "name": "stdout",
     "output_type": "stream",
     "text": [
      "0    95\n",
      "Name: price, dtype: int64\n"
     ]
    }
   ],
   "source": [
    "print(df['price'].mode())"
   ]
  }
 ],
 "metadata": {
  "kernelspec": {
   "display_name": "base",
   "language": "python",
   "name": "python3"
  },
  "language_info": {
   "codemirror_mode": {
    "name": "ipython",
    "version": 3
   },
   "file_extension": ".py",
   "mimetype": "text/x-python",
   "name": "python",
   "nbconvert_exporter": "python",
   "pygments_lexer": "ipython3",
   "version": "3.9.12"
  }
 },
 "nbformat": 4,
 "nbformat_minor": 2
}
